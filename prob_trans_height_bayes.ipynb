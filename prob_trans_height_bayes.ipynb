{
 "cells": [
  {
   "cell_type": "markdown",
   "metadata": {},
   "source": [
    "# Trans women and height distributions\n",
    "\n",
    "## Notebook by Rachel Simone Domagalski\n",
    "\n",
    "### Rough overview\n",
    "\n",
    "Given the discussion that's been happening recently about the fairness of trans women competing as women in sport, it might be useful to take a Bayesian approach to evaluate the notion of whether or not trans women are dominating women's sports. This calculation potentially useful given the influence of height on athletic ability and the rhetoric claiming that tall trans women are going to be dominating women's sports. In this notebook, I'm calculating a very rough estimate of the percentage of women at a certain height that are trans. This isn't a super rigorous calculation, just a quick ballpark estimate.\n",
    "\n",
    "Bayes theorem is $$P(A|B) = P(B|A) P(A)/P(B)$$\n",
    "where $$P(B) = P(B|A)P(A) + P(B|!A)P(!A)$$\n",
    "If we label the probability a woman is trans as $P(TW)$, the probability that a woman is cis as $P(CW) = 1-P(TW)$ and the probability that a woman is a minimum height as $P(H\\ge H_{min})$, then the probability that a woman is trans given she's at least a certain height is $$\n",
    "P(TW|H\\ge H_{min}) = \\frac{P(H\\ge H_{min}|TW)P(TW)}{P(H\\ge H_{min}|TW)P(TW)+P(H\\ge H_{min}|CW)P(CW)}\n",
    "$$\n",
    "\n",
    "I'm going to assume that population height is Gaussian distributed. I should repeat that this is a ballpark calculation. The probability density function of the Gaussian distribution is $$\n",
    "PDF(x|\\mu,\\sigma) = \\frac{1}{\\sqrt{2\\sigma^2}}\\exp\\left(-\\frac{\\left(x-\\mu\\right)^2}{2\\sigma^2}\\right)\n",
    "$$\n",
    "\n",
    "The corresponding cumulative density function (CDF), which gives the probability of being *less* than some value $x$, is $$\n",
    "CDF(x|\\mu,\\sigma) = \\int_{-\\infty}^x PDF(x'|\\mu,\\sigma)dx' = \\frac{1}{2}\\left(1 + erf\\left(\\frac{x-\\mu}{\\sqrt{2\\sigma^2}}\\right)\\right)\n",
    "$$\n",
    "\n",
    "Naturally, the probability of being greater than some value $x$ is equal to $1 - CDF(x|\\mu,\\sigma)$.\n",
    "\n",
    "### OK, nice equations, what are the numbers?\n",
    "\n",
    "Note: I'm using data for the United States here. Data for other countries might yield different results.\n",
    "\n",
    "For height data, I used CDC data here: https://www.cdc.gov/nchs/data/series/sr_03/sr03_039.pdf  \n",
    "More information can be found here: https://www.cdc.gov/nchs/fastats/body-measurements.htm  \n",
    "\n",
    "If we restrict this analysis to trans women who transitioned after puberty, then despite the fact that trans women are women, the height distributions of trans women should be similar to the height distributions of cis men. While hormone replacement therapy is really powerful and does great things, its effect on height is limited on trans women that have had to endure the puberty that AMAB people go through.\n",
    "\n",
    "The CDC reports mean heights for men and women over the age of 20, the standard error of the mean, and the amount of people in the data set. The standard error on the mean is $$\n",
    "\\sigma_{\\bar{x}} = \\frac{\\sigma}{\\sqrt{n}}\n",
    "$$\n",
    "\n",
    "The standard deviation of the data can then be computed from the reported results: $$\n",
    "\\sigma = \\sigma_{\\bar{x}}{\\sqrt{n}} $$\n",
    "\n",
    "The other necessary piece of data required for this analysis is the percentage of the population is trans. For this, the 2016 Williams institute data will be used: https://williamsinstitute.law.ucla.edu/wp-content/uploads/How-Many-Adults-Identify-as-Transgender-in-the-United-States.pdf\n",
    "\n",
    "The Williams Institute study reports that 0.6% of adults in the United States are trans.\n"
   ]
  },
  {
   "cell_type": "code",
   "execution_count": 1,
   "metadata": {},
   "outputs": [],
   "source": [
    "from typing import NamedTuple\n",
    "\n",
    "import numpy as np\n",
    "import scipy as sp\n",
    "import scipy.special as ss\n",
    "import matplotlib.pyplot as plt\n",
    "\n",
    "class Parameters(NamedTuple):\n",
    "    n_afab: int\n",
    "    n_amab: int\n",
    "    cis_w_mean: float\n",
    "    cis_w_stddev: float\n",
    "    trans_w_mean: float\n",
    "    trans_w_stddev: float\n",
    "    percent_trans: float\n",
    "        \n",
    "    @property\n",
    "    def cis_error_mean(self) -> float:\n",
    "        return self.cis_w_stddev * np.sqrt(self.n_afab)\n",
    "    \n",
    "    @property\n",
    "    def trans_error_mean(self) -> float:\n",
    "        return self.trans_w_stddev * np.sqrt(self.n_amab)\n",
    "\n",
    "# Heights in centimeters, taken from tables 9 and 11 in the CDC PDF linked above\n",
    "usa = Parameters(\n",
    "    n_afab = 5547,\n",
    "    n_amab = 5232,\n",
    "    cis_w_mean = 161.8,\n",
    "    cis_w_stddev = 0.21,\n",
    "    trans_w_mean = 175.7,\n",
    "    trans_w_stddev = 0.21,\n",
    "    # Williams institute\n",
    "    percent_trans = 0.006,\n",
    ")\n",
    "\n",
    "# unit conversion\n",
    "cm_per_in = 2.54\n",
    "cm_per_ft = cm_per_in*12"
   ]
  },
  {
   "cell_type": "code",
   "execution_count": 2,
   "metadata": {},
   "outputs": [],
   "source": [
    "# define some quick math functions\n",
    "def norm_gaussian_pdf(x, mean: float = 0.0, sigma: float = 1.0):\n",
    "    scale = 1.0/np.sqrt(2*np.pi*sigma**2)\n",
    "    exp = np.exp(-0.5*((x - mean)/sigma)**2)\n",
    "    return scale*exp\n",
    "\n",
    "def norm_gaussian_cdf(x, mean: float = 0.0, sigma: float = 1.0):\n",
    "    \"\"\"\n",
    "    Cumulative distribution function\n",
    "    \"\"\"\n",
    "    erf = ss.erf((x-mean)/(sigma*np.sqrt(2.)))\n",
    "    return 0.5*(1. + erf)\n",
    "\n",
    "def gaussian_integral(lower_bound, upper_bound, mean: float = 0.0, sigma: float = 1.0):\n",
    "    \"\"\"\n",
    "    integrate a gaussian PDF between two bounds.\n",
    "    probability of being within some finite range.\n",
    "    \"\"\"\n",
    "    bounds = np.array([lower_bound, upper_bound])\n",
    "    integral_vals = norm_gaussian_cdf(bounds, mean, sigma)\n",
    "    return integral_vals[1] - integral_vals[0]\n",
    "\n",
    "def prob_trans_given_min_height(params: Parameters, height: float) -> float:\n",
    "    \"\"\"\n",
    "    Get the probablity that a woman is trans given that she is some minimum height.\n",
    "    That is, what's the probability that a woman is trans if she's taller than six feet?\n",
    "    P(T) + P(C) = 1\n",
    "    P(T|H) = P(H|T)*P(T)/P(H)\n",
    "    P(H) = P(H|T)*P(T) + P(H|C)*P(C)\n",
    "    \"\"\"\n",
    "    # Given that the CDF for height is the probability of being less than a given height,\n",
    "    # the probability of being greater than a given height is 1 - CDF.\n",
    "    prob_taller_cis = 1.0 - norm_gaussian_cdf(height, params.cis_w_mean, params.cis_error_mean)\n",
    "    prob_taller_trans = 1.0 - norm_gaussian_cdf(height, params.trans_w_mean, params.trans_error_mean)\n",
    "\n",
    "    # 0.6% population is trans\n",
    "    prob_h = prob_taller_trans*params.percent_trans + prob_taller_cis*(1.0 - params.percent_trans)\n",
    "    prob_trans = prob_taller_trans*params.percent_trans/prob_h\n",
    "    return prob_trans\n",
    "\n",
    "def prob_trans_given_height_range(params: Parameters, height: float, h_range: float = cm_per_in) -> float:\n",
    "    \"\"\"\n",
    "    Functioning for limiting height between a certain symmetric range.\n",
    "    Default range: one inch.\n",
    "    \"\"\"\n",
    "    lower_bound = height - h_range/2.\n",
    "    upper_bound = height + h_range/2.\n",
    "\n",
    "    # \n",
    "    prob_range_cis = gaussian_integral(lower_bound, upper_bound, params.cis_w_mean, params.cis_error_mean)\n",
    "    prob_range_trans = gaussian_integral(lower_bound, upper_bound, trans_w_mean, params.trans_error_mean)\n",
    "\n",
    "    # 0.6% population is trans\n",
    "    prob_h = prob_range_trans*params.percent_trans + prob_range_cis*(1.0 - params.percent_trans)\n",
    "    prob_trans = prob_range_trans*params.percent_trans/prob_h\n",
    "    return prob_trans\n"
   ]
  },
  {
   "cell_type": "code",
   "execution_count": 3,
   "metadata": {},
   "outputs": [],
   "source": [
    "%matplotlib inline"
   ]
  },
  {
   "cell_type": "markdown",
   "metadata": {},
   "source": [
    "# Here is the approximate normalized height distribution of cis women and trans women who transitioned after puberty."
   ]
  },
  {
   "cell_type": "code",
   "execution_count": 4,
   "metadata": {},
   "outputs": [
    {
     "data": {
      "image/png": "[encoded data removed]",
      "text/plain": [
       "<Figure size 432x288 with 1 Axes>"
      ]
     },
     "metadata": {
      "needs_background": "light"
     },
     "output_type": "display_data"
    }
   ],
   "source": [
    "# Calculation axis\n",
    "height_cm = np.arange(100, 231) # tallest woman is about 231 cm\n",
    "height_ft = height_cm/cm_per_ft\n",
    "\n",
    "def plot_height_dist(params: Parameters):\n",
    "    trans_dist = norm_gaussian_pdf(height_cm, params.trans_w_mean, params.trans_error_mean)\n",
    "    cis_dist = norm_gaussian_pdf(height_cm, params.cis_w_mean, params.cis_error_mean)\n",
    "\n",
    "    # height distribution plots\n",
    "    plt.figure()\n",
    "    plt.plot(height_ft, cis_dist, label='Cis women')\n",
    "    plt.plot(height_ft, trans_dist, label='Trans women')\n",
    "    plt.xlabel('Height (feet)')\n",
    "    plt.ylabel('Normalized height distribution')\n",
    "    plt.legend()\n",
    "    plt.tight_layout()\n",
    "    \n",
    "plot_height_dist(usa)"
   ]
  },
  {
   "cell_type": "markdown",
   "metadata": {},
   "source": [
    "# What percentange of women above six feet are trans?\n",
    "\n",
    "Using Bayes theorem, we can calculate the ratio of trans women to all women for women above a given height. Only about two percent of women above six feet are trans. So, when it comes to trans women competing as women in athletic competitions where being tall helps out, most women competing will likely be cis, since cis women outnumber trans women at all heights. It should be noted that at very large heights like over 6.6 feet or seven feet, calculations can start running into low-number statistics."
   ]
  },
  {
   "cell_type": "code",
   "execution_count": 5,
   "metadata": {},
   "outputs": [
    {
     "name": "stdout",
     "output_type": "stream",
     "text": [
      "Percentange of women over six feet that are trans: 2.1 %\n"
     ]
    },
    {
     "data": {
      "image/png": "[encoded data removed]",
      "text/plain": [
       "<Figure size 432x288 with 1 Axes>"
      ]
     },
     "metadata": {
      "needs_background": "light"
     },
     "output_type": "display_data"
    }
   ],
   "source": [
    "def plot_over_height(params: Parameters):\n",
    "    prob_trans_min_h = prob_trans_given_min_height(params, height_cm)\n",
    "    \n",
    "    plt.figure()\n",
    "    plt.plot(height_ft, prob_trans_min_h)\n",
    "    plt.xlabel('Height (feet)')\n",
    "    plt.ylabel('Probability')\n",
    "    plt.title('Likelyhood a woman is trans if she\\'s above a certain height')\n",
    "    plt.tight_layout()\n",
    "\n",
    "    six_feet = 100*prob_trans_given_min_height(params, 6*cm_per_ft)\n",
    "    print('Percentange of women over six feet that are trans:', round(six_feet, 1), '%')\n",
    "    \n",
    "plot_over_height(usa)"
   ]
  },
  {
   "cell_type": "markdown",
   "metadata": {},
   "source": [
    "### So, are tall trans women dominating women's sports?\n",
    "\n",
    "No. While trans women who transitioned after puberty are likely going to be taller than cis women, when it comes to sports that favor height, the overwhelming majority of women participating are going to be cis. Trans women don't even become even 10% of the population of women above a minimum height until that height minimum is around seven feet, and even in that case, they are a minority among an already small minority (women over seven feet). The overwhelming majority of women who are considered tall by society are cis women, and sports that favor tall women are going to be dominated by tall cis women. "
   ]
  },
  {
   "cell_type": "markdown",
   "metadata": {},
   "source": [
    "### OK, that was just the USA's stats. What about stats for the world?\n",
    "\n"
   ]
  },
  {
   "cell_type": "code",
   "execution_count": null,
   "metadata": {},
   "outputs": [],
   "source": []
  }
 ],
 "metadata": {
  "kernelspec": {
   "display_name": "Python 3",
   "language": "python",
   "name": "python3"
  },
  "language_info": {
   "codemirror_mode": {
    "name": "ipython",
    "version": 3
   },
   "file_extension": ".py",
   "mimetype": "text/x-python",
   "name": "python",
   "nbconvert_exporter": "python",
   "pygments_lexer": "ipython3",
   "version": "3.8.5"
  }
 },
 "nbformat": 4,
 "nbformat_minor": 2
}
